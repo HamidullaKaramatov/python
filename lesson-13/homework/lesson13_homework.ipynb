{
 "cells": [
  {
   "cell_type": "code",
   "execution_count": 7,
   "metadata": {},
   "outputs": [
    {
     "name": "stdout",
     "output_type": "stream",
     "text": [
      "siz 20 yosh , 8 oy u,  7 kunsiz.\n"
     ]
    }
   ],
   "source": [
    "#1\n",
    "from datetime import datetime\n",
    "\n",
    "def calculate_age(birthdate):\n",
    "    today = datetime.today()\n",
    "    birthdate = datetime.strptime(birthdate, \"%Y-%m-%d\")\n",
    "    \n",
    "    years = today.year - birthdate.year\n",
    "    months = today.month - birthdate.month\n",
    "    days = today.day - birthdate.day\n",
    "    \n",
    "    if days < 0:\n",
    "        months -= 1\n",
    "        previous_month = (today.month - 1) if today.month > 1 else 12\n",
    "        days += (datetime(today.year, today.month, 1) - datetime(today.year, previous_month, 1)).days\n",
    "    \n",
    "    if months < 0:\n",
    "        years -= 1\n",
    "        months += 12\n",
    "    \n",
    "    return years, months, days\n",
    "\n",
    "if __name__ == \"__main__\":\n",
    "    birthdate = input(\"Enter your birthdate (YYYY-MM-DD): \")\n",
    "    years, months, days = calculate_age(birthdate)\n",
    "    print(f\"siz {years} yosh , {months} oy u,  {days} kunsiz.\")\n"
   ]
  },
  {
   "cell_type": "code",
   "execution_count": null,
   "metadata": {},
   "outputs": [
    {
     "name": "stdout",
     "output_type": "stream",
     "text": [
      "Your next birthday is in 114 days.\n"
     ]
    }
   ],
   "source": [
    "#2\n",
    "from datetime import datetime\n",
    "\n",
    "def days_until_next_birthday(birthdate):\n",
    "    today = datetime.today()\n",
    "    birthdate = datetime.strptime(birthdate, \"%Y-%m-%d\")\n",
    "    \n",
    "    next_birthday = birthdate.replace(year=today.year)\n",
    "    if next_birthday < today:\n",
    "        next_birthday = next_birthday.replace(year=today.year + 1)\n",
    "\n",
    "    return (next_birthday - today).days\n",
    "\n",
    "if __name__ == \"__main__\":\n",
    "    birthdate = input(\"Enter your birthdate (YYYY-MM-DD): \")\n",
    "    days_left = days_until_next_birthday(birthdate)\n",
    "    print(f\"Your next birthday is in {days_left} days.\")\n"
   ]
  },
  {
   "cell_type": "code",
   "execution_count": 5,
   "metadata": {},
   "outputs": [
    {
     "name": "stdout",
     "output_type": "stream",
     "text": [
      "The meeting will end at 2025-04-05 16:35.\n"
     ]
    }
   ],
   "source": [
    "#3\n",
    "from datetime import datetime, timedelta\n",
    "\n",
    "def meeting_end_time(current_datetime, duration_hours, duration_minutes):\n",
    "    current_datetime = datetime.strptime(current_datetime, \"%Y-%m-%d %H:%M\")\n",
    "    duration = timedelta(hours=duration_hours, minutes=duration_minutes)\n",
    "    end_time = current_datetime + duration\n",
    "    return end_time\n",
    "\n",
    "if __name__ == \"__main__\":\n",
    "    current_datetime = input(\"Enter the current date and time (YYYY-MM-DD HH:MM): \")\n",
    "    duration_hours = int(input(\"Enter the duration of the meeting in hours: \"))\n",
    "    duration_minutes = int(input(\"Enter the duration of the meeting in minutes: \"))\n",
    "    end_time = meeting_end_time(current_datetime, duration_hours, duration_minutes)\n",
    "    print(f\"The meeting will end at {end_time.strftime('%Y-%m-%d %H:%M')}.\")\n"
   ]
  },
  {
   "cell_type": "code",
   "execution_count": null,
   "metadata": {},
   "outputs": [],
   "source": [
    "#4\n",
    "from datetime import datetime\n",
    "import pytz\n",
    "\n",
    "def convert_timezone(date_time_str, from_timezone, to_timezone):\n",
    "    from_zone = pytz.timezone(from_timezone)\n",
    "    to_zone = pytz.timezone(to_timezone)\n",
    "    \n",
    "    naive_datetime = datetime.strptime(date_time_str, \"%Y-%m-%d %H:%M\")\n",
    "    local_datetime = from_zone.localize(naive_datetime)\n",
    "    \n",
    "    converted_datetime = local_datetime.astimezone(to_zone)\n",
    "    return converted_datetime.strftime('%Y-%m-%d %H:%M')\n",
    "\n",
    "if __name__ == \"__main__\":\n",
    "    date_time_str = input(\"Enter the date and time (YYYY-MM-DD HH:MM): \")\n",
    "    from_timezone = input(\"Enter your current timezone: \")\n",
    "    to_timezone = input(\"Enter the timezone to convert to: \")\n",
    "    converted_time = convert_timezone(date_time_str, from_timezone, to_timezone)\n",
    "    print(f\"The time in {to_timezone} is {converted_time}.\")\n"
   ]
  },
  {
   "cell_type": "code",
   "execution_count": null,
   "metadata": {},
   "outputs": [],
   "source": [
    "#5\n",
    "import time\n",
    "from datetime import datetime\n",
    "\n",
    "def countdown_timer(target_datetime_str):\n",
    "    target_datetime = datetime.strptime(target_datetime_str, \"%Y-%m-%d %H:%M\")\n",
    "    while True:\n",
    "        remaining_time = target_datetime - datetime.now()\n",
    "        if remaining_time.total_seconds() <= 0:\n",
    "            print(\"Countdown finished!\")\n",
    "            break\n",
    "        print(f\"Time remaining: {remaining_time}\", end=\"\\r\")\n",
    "        time.sleep(1)\n",
    "\n",
    "if __name__ == \"__main__\":\n",
    "    target_datetime_str = input(\"Enter the future date and time (YYYY-MM-DD HH:MM): \")\n",
    "    countdown_timer(target_datetime_str)\n"
   ]
  },
  {
   "cell_type": "code",
   "execution_count": 12,
   "metadata": {},
   "outputs": [
    {
     "name": "stdout",
     "output_type": "stream",
     "text": [
      "Valid email address.\n"
     ]
    }
   ],
   "source": [
    "#6\n",
    "import re\n",
    "\n",
    "def validate_email(email):\n",
    "    regex = r'^[a-zA-Z0-9_.+-]+@[a-zA-Z0-9-]+\\.[a-zA-Z0-9-.]+$'\n",
    "    if re.match(regex, email):\n",
    "        return True\n",
    "    return False\n",
    "\n",
    "if __name__ == \"__main__\":\n",
    "    email = input(\"Enter your email address: \")\n",
    "    if validate_email(email):\n",
    "        print(\"Valid email address.\")\n",
    "    else:\n",
    "        print(\"Invalid email address.\")\n"
   ]
  },
  {
   "cell_type": "code",
   "execution_count": 13,
   "metadata": {},
   "outputs": [
    {
     "name": "stdout",
     "output_type": "stream",
     "text": [
      "Formatted phone number: Invalid phone number\n"
     ]
    }
   ],
   "source": [
    "#7\n",
    "def format_phone_number(phone_number):\n",
    "    phone_number = ''.join(filter(str.isdigit, phone_number))  # Remove non-numeric characters\n",
    "    if len(phone_number) == 10:\n",
    "        formatted_number = f\"({phone_number[:3]}) {phone_number[3:6]}-{phone_number[6:]}\"\n",
    "        return formatted_number\n",
    "    return \"Invalid phone number\"\n",
    "\n",
    "if __name__ == \"__main__\":\n",
    "    phone_number = input(\"Enter your phone number: \")\n",
    "    formatted_number = format_phone_number(phone_number)\n",
    "    print(f\"Formatted phone number: {formatted_number}\")\n"
   ]
  },
  {
   "cell_type": "code",
   "execution_count": null,
   "metadata": {},
   "outputs": [
    {
     "name": "stdout",
     "output_type": "stream",
     "text": [
      "Password must contain at least one uppercase letter\n"
     ]
    }
   ],
   "source": [
    "#8\n",
    "import re\n",
    "\n",
    "def check_password_strength(password):\n",
    "    if len(password) < 8:\n",
    "        return \"Password too short\"\n",
    "    if not re.search(r\"[A-Z]\", password):\n",
    "        return \"Password must contain at least one uppercase letter\"\n",
    "    if not re.search(r\"[a-z]\", password):\n",
    "        return \"Password must contain at least one lowercase letter\"\n",
    "    if not re.search(r\"\\d\", password):\n",
    "        return \"Password must contain at least one digit\"\n",
    "    return \"Strong password\"\n",
    "\n",
    "if __name__ == \"__main__\":\n",
    "    password = input(\"Enter your password: \")\n",
    "    strength = check_password_strength(password)\n",
    "    print(strength)\n"
   ]
  },
  {
   "cell_type": "code",
   "execution_count": 17,
   "metadata": {},
   "outputs": [
    {
     "name": "stdout",
     "output_type": "stream",
     "text": [
      "The word 'hamidulla' appears 1 times.\n"
     ]
    }
   ],
   "source": [
    "#9\n",
    "def find_word_occurrences(text, word):\n",
    "    word_count = text.lower().count(word.lower())\n",
    "    return word_count\n",
    "\n",
    "if __name__ == \"__main__\":\n",
    "    text = input(\"Enter a text: \")\n",
    "    word = input(\"Enter the word to search for: \")\n",
    "    count = find_word_occurrences(text, word)\n",
    "    print(f\"The word '{word}' appears {count} times.\")\n",
    "\n"
   ]
  },
  {
   "cell_type": "code",
   "execution_count": 18,
   "metadata": {},
   "outputs": [
    {
     "name": "stdout",
     "output_type": "stream",
     "text": [
      "Dates found: []\n"
     ]
    }
   ],
   "source": [
    "#10\n",
    "import re\n",
    "\n",
    "def extract_dates(text):\n",
    "    date_pattern = r\"\\b\\d{4}-\\d{2}-\\d{2}\\b\"\n",
    "    dates = re.findall(date_pattern, text)\n",
    "    return dates\n",
    "\n",
    "if __name__ == \"__main__\":\n",
    "    text = input(\"Enter a text: \")\n",
    "    dates = extract_dates(text)\n",
    "    print(f\"Dates found: {dates}\")\n"
   ]
  }
 ],
 "metadata": {
  "kernelspec": {
   "display_name": "Python 3",
   "language": "python",
   "name": "python3"
  },
  "language_info": {
   "codemirror_mode": {
    "name": "ipython",
    "version": 3
   },
   "file_extension": ".py",
   "mimetype": "text/x-python",
   "name": "python",
   "nbconvert_exporter": "python",
   "pygments_lexer": "ipython3",
   "version": "3.13.2"
  }
 },
 "nbformat": 4,
 "nbformat_minor": 2
}
