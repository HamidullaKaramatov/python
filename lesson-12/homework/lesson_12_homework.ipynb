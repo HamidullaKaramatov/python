{
 "cells": [
  {
   "cell_type": "markdown",
   "metadata": {},
   "source": [
    "exercise 1"
   ]
  },
  {
   "cell_type": "code",
   "execution_count": 9,
   "metadata": {},
   "outputs": [
    {
     "name": "stdout",
     "output_type": "stream",
     "text": [
      "1 True\n",
      "2 True\n",
      "3 True\n",
      "4 False\n",
      "5 True\n",
      "6 False\n",
      "7 True\n",
      "8 False\n",
      "9 False\n",
      "10 False\n",
      "11 True\n",
      "12 False\n",
      "13 True\n",
      "14 False\n",
      "15 False\n",
      "16 False\n",
      "17 True\n",
      "18 False\n",
      "19 True\n"
     ]
    }
   ],
   "source": [
    "#solution1\n",
    "def is_prime(num):\n",
    "    for sub_num in range(2, num):\n",
    "        if num%sub_num == 0:\n",
    "            return False\n",
    "    return True\n",
    "\n",
    "for num in range(1, 20):\n",
    "    print(num, is_prime(num))"
   ]
  },
  {
   "cell_type": "code",
   "execution_count": 10,
   "metadata": {},
   "outputs": [
    {
     "name": "stdout",
     "output_type": "stream",
     "text": [
      "Prime numbers: [2, 3, 5, 7, 11, 13, 17, 19]\n"
     ]
    }
   ],
   "source": [
    "#SOLUTION 2\n",
    "import threading\n",
    "from math import sqrt\n",
    "\n",
    "def is_prime(n):\n",
    "    if n < 2:\n",
    "        return False\n",
    "    for i in range(2, int(sqrt(n)) + 1):\n",
    "        if n % i == 0:\n",
    "            return False\n",
    "    return True\n",
    "\n",
    "def check_primes(start, end, result, lock):\n",
    "    primes = [n for n in range(start, end) if is_prime(n)]\n",
    "    with lock:\n",
    "        result.extend(primes)\n",
    "\n",
    "def threaded_prime_checker(start, end, num_threads=4):\n",
    "    threads = []\n",
    "    result = []\n",
    "    lock = threading.Lock()\n",
    "    step = (end - start) // num_threads\n",
    "    \n",
    "    for i in range(num_threads):\n",
    "        sub_start = start + i * step\n",
    "        sub_end = start + (i + 1) * step if i != num_threads - 1 else end\n",
    "        thread = threading.Thread(target=check_primes, args=(sub_start, sub_end, result, lock))\n",
    "        threads.append(thread)\n",
    "        thread.start()\n",
    "    \n",
    "    for thread in threads:\n",
    "        thread.join()\n",
    "    \n",
    "    print(\"Prime numbers:\", sorted(result))\n",
    "\n",
    "if __name__ == \"__main__\":\n",
    "    start_range = 1\n",
    "    end_range = 20\n",
    "    num_threads = 4\n",
    "    threaded_prime_checker(start_range, end_range, num_threads)\n"
   ]
  },
  {
   "cell_type": "markdown",
   "metadata": {},
   "source": [
    "exercise 2 Solution"
   ]
  },
  {
   "cell_type": "code",
   "execution_count": 12,
   "metadata": {},
   "outputs": [
    {
     "name": "stdout",
     "output_type": "stream",
     "text": [
      "Word occurrences:\n",
      "asd: 7\n",
      "salom: 1\n",
      "qara: 1\n",
      "men: 1\n",
      "keldim: 1\n"
     ]
    }
   ],
   "source": [
    "import threading\n",
    "from collections import Counter\n",
    "\n",
    "def count_words(lines, result, lock):\n",
    "    local_counter = Counter()\n",
    "    for line in lines:\n",
    "        words = line.strip().split()\n",
    "        local_counter.update(words)\n",
    "    \n",
    "    with lock:\n",
    "        result.update(local_counter)\n",
    "\n",
    "def threaded_word_count(filename, num_threads=4):\n",
    "    with open(filename, 'r', encoding='utf-8') as file:\n",
    "        lines = file.readlines()\n",
    "    \n",
    "    threads = []\n",
    "    result = Counter()\n",
    "    lock = threading.Lock()\n",
    "    step = len(lines) // num_threads\n",
    "    \n",
    "    for i in range(num_threads):\n",
    "        start = i * step\n",
    "        end = (i + 1) * step if i != num_threads - 1 else len(lines)\n",
    "        thread = threading.Thread(target=count_words, args=(lines[start:end], result, lock))\n",
    "        threads.append(thread)\n",
    "        thread.start()\n",
    "    \n",
    "    for thread in threads:\n",
    "        thread.join()\n",
    "    \n",
    "    print(\"Word occurrences:\")\n",
    "    for word, count in result.most_common(10):  \n",
    "        print(f\"{word}: {count}\")\n",
    "\n",
    "if __name__ == \"__main__\":\n",
    "    filename = \"aaa.txt\"  \n",
    "    threaded_word_count(filename)\n"
   ]
  }
 ],
 "metadata": {
  "kernelspec": {
   "display_name": "Python 3",
   "language": "python",
   "name": "python3"
  },
  "language_info": {
   "codemirror_mode": {
    "name": "ipython",
    "version": 3
   },
   "file_extension": ".py",
   "mimetype": "text/x-python",
   "name": "python",
   "nbconvert_exporter": "python",
   "pygments_lexer": "ipython3",
   "version": "3.13.2"
  }
 },
 "nbformat": 4,
 "nbformat_minor": 2
}
