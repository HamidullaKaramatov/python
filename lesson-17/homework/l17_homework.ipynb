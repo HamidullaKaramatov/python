{
 "cells": [
  {
   "cell_type": "markdown",
   "metadata": {},
   "source": [
    "task 1"
   ]
  },
  {
   "cell_type": "code",
   "execution_count": 8,
   "metadata": {},
   "outputs": [
    {
     "name": "stdout",
     "output_type": "stream",
     "text": [
      "First 3 rows of the DataFrame:\n",
      "  first_name  age           City\n",
      "0      Alice   25       New York\n",
      "1        Bob   30  San Francisco\n",
      "2    Charlie   35    Los Angeles\n",
      "\n",
      "Mean age of the individuals: 32.5\n",
      "\n",
      "Selected 'first_name' and 'City' columns:\n",
      "  first_name           City\n",
      "0      Alice       New York\n",
      "1        Bob  San Francisco\n",
      "2    Charlie    Los Angeles\n",
      "3      David        Chicago\n",
      "\n",
      "Summary statistics of the DataFrame:\n",
      "             age        Salary\n",
      "count   4.000000      4.000000\n",
      "mean   32.500000  68518.750000\n",
      "std     6.454972  17408.073996\n",
      "min    25.000000  50451.000000\n",
      "25%    28.750000  59301.000000\n",
      "50%    32.500000  65909.000000\n",
      "75%    36.250000  75126.750000\n",
      "max    40.000000  91806.000000\n"
     ]
    }
   ],
   "source": [
    "\n",
    "import pandas as pd\n",
    "import numpy as np\n",
    "\n",
    "# Creating the DataFrame\n",
    "data = {'First Name': ['Alice', 'Bob', 'Charlie', 'David'], \n",
    "        'Age': [25, 30, 35, 40], \n",
    "        'City': ['New York', 'San Francisco', 'Los Angeles', 'Chicago']}\n",
    "df = pd.DataFrame(data)\n",
    "\n",
    "# 1. \n",
    "df.rename(columns={'First Name': 'first_name', 'Age': 'age'}, inplace=True)\n",
    "\n",
    "# 2. \n",
    "print(\"First 3 rows of the DataFrame:\")\n",
    "print(df.head(3))\n",
    "\n",
    "# 3. \n",
    "mean_age = df['age'].mean()\n",
    "print(\"\\nMean age of the individuals:\", mean_age)\n",
    "\n",
    "# 4. \n",
    "print(\"\\nSelected 'first_name' and 'City' columns:\")\n",
    "print(df[['first_name', 'City']])\n",
    "\n",
    "# 5.\n",
    "df['Salary'] = np.random.randint(50000, 100001, size=len(df))\n",
    "\n",
    "# 6. \n",
    "print(\"\\nSummary statistics of the DataFrame:\")\n",
    "print(df.describe())\n"
   ]
  },
  {
   "cell_type": "markdown",
   "metadata": {},
   "source": [
    "task 2"
   ]
  },
  {
   "cell_type": "code",
   "execution_count": 7,
   "metadata": {},
   "outputs": [
    {
     "name": "stdout",
     "output_type": "stream",
     "text": [
      "Maximum Sales: 8000\n",
      "Maximum Expenses: 4500\n",
      "\n",
      "Minimum Sales: 5000\n",
      "Minimum Expenses: 3000\n",
      "\n",
      "Average Sales: 6625.0\n",
      "Average Expenses: 3750.0\n"
     ]
    }
   ],
   "source": [
    "import pandas as pd\n",
    "\n",
    "\n",
    "data = {\n",
    "    'Month': ['Jan', 'Feb', 'Mar', 'Apr'],\n",
    "    'Sales': [5000, 6000, 7500, 8000],\n",
    "    'Expenses': [3000, 3500, 4000, 4500]\n",
    "}\n",
    "sales_and_expenses = pd.DataFrame(data)\n",
    "\n",
    "# 1.\n",
    "max_sales = sales_and_expenses['Sales'].max()\n",
    "max_expenses = sales_and_expenses['Expenses'].max()\n",
    "\n",
    "print(\"Maximum Sales:\", max_sales)\n",
    "print(\"Maximum Expenses:\", max_expenses)\n",
    "\n",
    "# 2. \n",
    "min_sales = sales_and_expenses['Sales'].min()\n",
    "min_expenses = sales_and_expenses['Expenses'].min()\n",
    "\n",
    "print(\"\\nMinimum Sales:\", min_sales)\n",
    "print(\"Minimum Expenses:\", min_expenses)\n",
    "\n",
    "# 3. \n",
    "average_sales = sales_and_expenses['Sales'].mean()\n",
    "average_expenses = sales_and_expenses['Expenses'].mean()\n",
    "\n",
    "print(\"\\nAverage Sales:\", average_sales)\n",
    "print(\"Average Expenses:\", average_expenses)\n"
   ]
  },
  {
   "cell_type": "markdown",
   "metadata": {},
   "source": [
    "task 3"
   ]
  },
  {
   "cell_type": "code",
   "execution_count": 1,
   "metadata": {},
   "outputs": [
    {
     "name": "stdout",
     "output_type": "stream",
     "text": [
      "Maximum Expense for Each Category:\n",
      "Category\n",
      "Rent             1500\n",
      "Utilities         250\n",
      "Groceries         350\n",
      "Entertainment     180\n",
      "dtype: int64\n",
      "\n",
      "Minimum Expense for Each Category:\n",
      "Category\n",
      "Rent             1200\n",
      "Utilities         200\n",
      "Groceries         300\n",
      "Entertainment     150\n",
      "dtype: int64\n",
      "\n",
      "Average Expense for Each Category:\n",
      "Category\n",
      "Rent             1350.0\n",
      "Utilities         227.5\n",
      "Groceries         325.0\n",
      "Entertainment     165.0\n",
      "dtype: float64\n"
     ]
    }
   ],
   "source": [
    "import pandas as pd\n",
    "\n",
    "\n",
    "data = {\n",
    "    'Category': ['Rent', 'Utilities', 'Groceries', 'Entertainment'],\n",
    "    'January': [1200, 200, 300, 150],\n",
    "    'February': [1300, 220, 320, 160],\n",
    "    'March': [1400, 240, 330, 170],\n",
    "    'April': [1500, 250, 350, 180]\n",
    "}\n",
    "expenses = pd.DataFrame(data)\n",
    "\n",
    "\n",
    "expenses.set_index('Category', inplace=True)\n",
    "\n",
    "# 1. \n",
    "max_expense = expenses.max(axis=1)\n",
    "print(\"Maximum Expense for Each Category:\")\n",
    "print(max_expense)\n",
    "\n",
    "# 2. \n",
    "min_expense = expenses.min(axis=1)\n",
    "print(\"\\nMinimum Expense for Each Category:\")\n",
    "print(min_expense)\n",
    "\n",
    "# 3. \n",
    "average_expense = expenses.mean(axis=1)\n",
    "print(\"\\nAverage Expense for Each Category:\")\n",
    "print(average_expense)\n"
   ]
  }
 ],
 "metadata": {
  "kernelspec": {
   "display_name": "Python 3",
   "language": "python",
   "name": "python3"
  },
  "language_info": {
   "codemirror_mode": {
    "name": "ipython",
    "version": 3
   },
   "file_extension": ".py",
   "mimetype": "text/x-python",
   "name": "python",
   "nbconvert_exporter": "python",
   "pygments_lexer": "ipython3",
   "version": "3.13.2"
  }
 },
 "nbformat": 4,
 "nbformat_minor": 2
}
